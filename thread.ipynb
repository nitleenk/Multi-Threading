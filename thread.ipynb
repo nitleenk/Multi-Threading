{
  "nbformat": 4,
  "nbformat_minor": 0,
  "metadata": {
    "colab": {
      "provenance": []
    },
    "kernelspec": {
      "name": "python3",
      "display_name": "Python 3"
    },
    "language_info": {
      "name": "python"
    }
  },
  "cells": [
    {
      "cell_type": "code",
      "execution_count": 1,
      "metadata": {
        "colab": {
          "base_uri": "https://localhost:8080/"
        },
        "id": "W6m_OQ7rTRYi",
        "outputId": "3b008a6d-ef1b-4fe9-b163-07c64d9e4074"
      },
      "outputs": [
        {
          "output_type": "stream",
          "name": "stderr",
          "text": [
            "<ipython-input-1-66e71c315296>:13: DeprecationWarning: activeCount() is deprecated, use active_count() instead\n",
            "  activeThreads = threading.activeCount()\n"
          ]
        },
        {
          "output_type": "stream",
          "name": "stdout",
          "text": [
            "Active Threads =  5\n",
            "Program Started\n",
            " Thread starts\n",
            " Task started\n",
            " Task running for 9 sec....\n"
          ]
        },
        {
          "output_type": "stream",
          "name": "stderr",
          "text": [
            "<ipython-input-1-66e71c315296>:23: DeprecationWarning: activeCount() is deprecated, use active_count() instead\n",
            "  if threading.activeCount() == activeThreads:\n",
            "<ipython-input-1-66e71c315296>:26: DeprecationWarning: activeCount() is deprecated, use active_count() instead\n",
            "  print (\"Thread still running (left %d)...\"%(threading.activeCount() - activeThreads))\n"
          ]
        },
        {
          "output_type": "stream",
          "name": "stdout",
          "text": [
            "Thread still running (left 1)...\n",
            "Thread still running (left 1)...\n",
            "Thread still running (left 1)...\n",
            "Thread still running (left 1)...\n",
            "Thread still running (left 1)...\n",
            "Thread still running (left 1)...\n",
            "Thread still running (left 1)...\n",
            "Thread still running (left 1)...\n",
            " Task ends\n",
            " Thread ends\n",
            "Program Finished\n",
            "Total Time 9.018400 sec\n"
          ]
        }
      ],
      "source": [
        "import os,sys,time,random as r\n",
        "import threading,multiprocessing\n",
        "\n",
        "def task(cmd):\n",
        "  waitingTime = r.randint(5,10)\n",
        "  print(\" Task started\")\n",
        "  print(\" Task running for %d sec....\" % (waitingTime))\n",
        "  time.sleep(waitingTime)\n",
        "  print(\" Task ends\")\n",
        "  return\n",
        "\n",
        "startTime = time.time()\n",
        "activeThreads = threading.activeCount()\n",
        "print(\"Active Threads = \", activeThreads)\n",
        "cmd = 'Sample task'\n",
        "print(\"Program Started\")\n",
        "print(\" Thread starts\")\n",
        "t = threading.Thread (target=task, args=(cmd,))\n",
        "t.start()\n",
        "time.sleep(1)\n",
        "# Waiting to finish the Threads\n",
        "while True:\n",
        "  if threading.activeCount() == activeThreads:\n",
        "    break\n",
        "  else:\n",
        "    print (\"Thread still running (left %d)...\"%(threading.activeCount() - activeThreads))\n",
        "    time.sleep(1)\n",
        "print(\" Thread ends\")\n",
        "print(\"Program Finished\")\n",
        "print(\"Total Time %f sec\" % (round(time.time() - startTime, 4)))\n",
        "\n"
      ]
    }
  ]
}